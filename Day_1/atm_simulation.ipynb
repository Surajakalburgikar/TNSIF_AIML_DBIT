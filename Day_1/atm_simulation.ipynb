{
 "cells": [
  {
   "cell_type": "code",
   "execution_count": null,
   "id": "dfdd38a6-b93f-4809-be42-3a105869bc68",
   "metadata": {},
   "outputs": [],
   "source": [
    "correct_pin = \"1234\"\n",
    "balance = 10000\n",
    "attempts = 3\n",
    "\n",
    "while attempts > 0:\n",
    "    pin = input(\"Enter your PIN: \")\n",
    "    if pin == correct_pin:\n",
    "        print(\"PIN accepted. Welcome!\")\n",
    "\n",
    "        while True:\n",
    "            print(\"\\n--- ATM Menu ---\")\n",
    "            print(\"1. Check balance\")\n",
    "            print(\"2. Deposit\")\n",
    "            print(\"3. Withdraw\")\n",
    "            print(\"4. Exit\")\n",
    "\n",
    "            choice = input(\"Enter your choice: \")\n",
    "\n",
    "            if choice == \"1\":\n",
    "                print(\"Your balance is Rs\", balance)\n",
    "\n",
    "            elif choice == \"2\":\n",
    "                amount = float(input(\"Enter amount to deposit: Rs \"))\n",
    "                if amount > 0:\n",
    "                    balance += amount\n",
    "                    print(\"Rs\", amount, \"deposited successfully.\")\n",
    "                else:\n",
    "                    print(\"Invalid amount.\")\n",
    "\n",
    "            elif choice == \"3\":\n",
    "                amount = float(input(\"Enter amount to withdraw: Rs \"))\n",
    "                if amount > 0 and amount <= balance:\n",
    "                    balance -= amount\n",
    "                    print(\"Rs\", amount, \"withdrawn successfully.\")\n",
    "                else:\n",
    "                    print(\"Insufficient balance or invalid amount.\")\n",
    "\n",
    "            elif choice == \"4\":\n",
    "                print(\"Thank you for using the ATM. Goodbye!\")\n",
    "                break\n",
    "\n",
    "            else:\n",
    "                print(\"Invalid choice. Please try again.\")\n",
    "\n",
    "        break\n",
    "    else:\n",
    "        attempts -= 1\n",
    "        print(\"Incorrect PIN. Attempts left:\", attempts)\n",
    "        if attempts == 0:\n",
    "            print(\"Too many wrong attempts. Card blocked.\")\n"
   ]
  },
  {
   "cell_type": "code",
   "execution_count": null,
   "id": "6d657d89-e8d5-443a-b02c-4fdc5f65b605",
   "metadata": {},
   "outputs": [],
   "source": []
  }
 ],
 "metadata": {
  "kernelspec": {
   "display_name": "Python 3 (ipykernel)",
   "language": "python",
   "name": "python3"
  },
  "language_info": {
   "codemirror_mode": {
    "name": "ipython",
    "version": 3
   },
   "file_extension": ".py",
   "mimetype": "text/x-python",
   "name": "python",
   "nbconvert_exporter": "python",
   "pygments_lexer": "ipython3",
   "version": "3.13.5"
  }
 },
 "nbformat": 4,
 "nbformat_minor": 5
}
