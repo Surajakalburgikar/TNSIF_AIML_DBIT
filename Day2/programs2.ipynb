{
 "cells": [
  {
   "cell_type": "code",
   "execution_count": null,
   "id": "462918f9-afa8-4515-b6f6-e7719ebb3c72",
   "metadata": {},
   "outputs": [],
   "source": [
    "while True:\n",
    "    word = input(\"Enter a word: \")\n",
    "    if word == \"Bon\":\n",
    "        print(\"Voyage\")\n",
    "        break"
   ]
  },
  {
   "cell_type": "code",
   "execution_count": null,
   "id": "150414ce-9427-4184-822b-6152f930f667",
   "metadata": {},
   "outputs": [],
   "source": [
    "value = 0\n",
    "while True:\n",
    "    value  = value + 50\n",
    "    print(\"Current value:\", value)\n",
    "    if value > 300:\n",
    "        print(\"Value exceeded 300. Breaking the loop.\")\n",
    "        break"
   ]
  },
  {
   "cell_type": "code",
   "execution_count": null,
   "id": "1a99149f-8824-4c96-91ec-dae5ae37fa5e",
   "metadata": {},
   "outputs": [],
   "source": [
    "n = input('enter name')\n",
    "for i in n:\n",
    "    if i == 'a' or i == 'e' or i == 'i' or i == 'o' or i == 'u':\n",
    "        continue\n",
    "    else:S\n",
    "        print(i)"
   ]
  },
  {
   "cell_type": "code",
   "execution_count": null,
   "id": "c22422f9-8aee-4aff-b36f-fe91f3729fe1",
   "metadata": {},
   "outputs": [],
   "source": [
    "address = input(\"enter your address \")\n",
    "print(\"numbers are\")\n",
    "for ch in address:\n",
    "    if ch >= '0' and ch <= '9':\n",
    "        print(ch, end='')"
   ]
  },
  {
   "cell_type": "code",
   "execution_count": null,
   "id": "aa93cf4e-795e-4799-af23-13a7799d9743",
   "metadata": {},
   "outputs": [],
   "source": [
    "ul = eval(input(\"Enter 5 words:\"))\n",
    "name = input(\"Enter your name:\")\n",
    "ul[2] = name\n",
    "ul[4] = name\n",
    "print(\"Replaced:\",ul)"
   ]
  }
 ],
 "metadata": {
  "kernelspec": {
   "display_name": "Python 3 (ipykernel)",
   "language": "python",
   "name": "python3"
  },
  "language_info": {
   "codemirror_mode": {
    "name": "ipython",
    "version": 3
   },
   "file_extension": ".py",
   "mimetype": "text/x-python",
   "name": "python",
   "nbconvert_exporter": "python",
   "pygments_lexer": "ipython3",
   "version": "3.13.5"
  }
 },
 "nbformat": 4,
 "nbformat_minor": 5
}
