{
 "cells": [
  {
   "cell_type": "code",
   "execution_count": 3,
   "id": "783f3f1a-d75d-44cc-900d-d23396e200a1",
   "metadata": {},
   "outputs": [
    {
     "name": "stdout",
     "output_type": "stream",
     "text": [
      "{'alice': 1234, 'bob': 5678, 'david': 9123, 'Thomas': 4567}\n"
     ]
    },
    {
     "name": "stdin",
     "output_type": "stream",
     "text": [
      "Enter the name whose number to be modified Thomas\n",
      "Enter the new number 5375\n"
     ]
    },
    {
     "name": "stdout",
     "output_type": "stream",
     "text": [
      "Modified successfully\n",
      "{'alice': 1234, 'bob': 5678, 'david': 9123, 'Thomas': '5375'}\n"
     ]
    }
   ],
   "source": [
    "phonebook={\"alice\":1234,\"bob\":5678,\"david\":9123,\"Thomas\":4567}\n",
    "print(phonebook)\n",
    "\n",
    "name = input(\"Enter the name whose number to be modified\")\n",
    "if name in phonebook:\n",
    "    newnumb = input(\"Enter the new number\")\n",
    "    phonebook[name] = newnumb\n",
    "    print(\"Modified successfully\")\n",
    "    print(phonebook)\n",
    "else:\n",
    "    print(name, \"was not found.\")"
   ]
  },
  {
   "cell_type": "code",
   "execution_count": 6,
   "id": "d705d02f-9aff-4d8d-a463-6bf4c3b0f80f",
   "metadata": {},
   "outputs": [
    {
     "name": "stdout",
     "output_type": "stream",
     "text": [
      "{'alice': 1234, 'bob': 5678, 'david': 9123}\n",
      "{'alice': 1234, 'bob': 5678, 'david': 9123, 'Thomas': 4567}\n",
      "{'alice': 1234, 'bob': 5678, 'david': 9123, 'Thomas': 4567, 'alen': 1928}\n"
     ]
    }
   ],
   "source": [
    "phonebook={\"alice\":1234,\"bob\":5678,\"david\":9123}\n",
    "print(phonebook)\n",
    "\n",
    "phonebook[\"Thomas\"] = 4567\n",
    "print(phonebook)\n",
    "\n",
    "phonebook.update({\"alen\":1928})\n",
    "print(phonebook)"
   ]
  },
  {
   "cell_type": "code",
   "execution_count": 5,
   "id": "0c826b87-a60e-4a29-9d18-e0fc285bc4eb",
   "metadata": {},
   "outputs": [
    {
     "name": "stdout",
     "output_type": "stream",
     "text": [
      "{'alice': 1234, 'bob': 5678, 'david': 9123, 'Thomas': 4567}\n"
     ]
    },
    {
     "name": "stdin",
     "output_type": "stream",
     "text": [
      "enter the name to delete: bob\n"
     ]
    },
    {
     "name": "stdout",
     "output_type": "stream",
     "text": [
      "delete successfully\n",
      "{'alice': 1234, 'david': 9123, 'Thomas': 4567}\n"
     ]
    }
   ],
   "source": [
    "phonebook={\"alice\":1234,\"bob\":5678,\"david\":9123,\"Thomas\":4567}\n",
    "print(phonebook)\n",
    "\n",
    "name = input(\"enter the name to delete:\")\n",
    "if name in phonebook:\n",
    "    del phonebook[name]\n",
    "    print (\"delete successfully\")\n",
    "    print (phonebook)\n",
    "else:\n",
    "    print (name,\"was not found\")"
   ]
  },
  {
   "cell_type": "code",
   "execution_count": 4,
   "id": "7ad2bb81-19f5-4b66-89b2-f8a180f53e76",
   "metadata": {},
   "outputs": [
    {
     "name": "stdout",
     "output_type": "stream",
     "text": [
      "{}\n"
     ]
    }
   ],
   "source": [
    "phonebook={\"alice\":1234,\"bob\":5678,\"david\":9123,\"Thomas\":4567}\n",
    "phonebook.clear()\n",
    "print(phonebook)"
   ]
  },
  {
   "cell_type": "code",
   "execution_count": null,
   "id": "4986f216-1980-4261-9f45-386c8a4161c6",
   "metadata": {},
   "outputs": [],
   "source": []
  }
 ],
 "metadata": {
  "kernelspec": {
   "display_name": "Python 3 (ipykernel)",
   "language": "python",
   "name": "python3"
  },
  "language_info": {
   "codemirror_mode": {
    "name": "ipython",
    "version": 3
   },
   "file_extension": ".py",
   "mimetype": "text/x-python",
   "name": "python",
   "nbconvert_exporter": "python",
   "pygments_lexer": "ipython3",
   "version": "3.13.5"
  }
 },
 "nbformat": 4,
 "nbformat_minor": 5
}
