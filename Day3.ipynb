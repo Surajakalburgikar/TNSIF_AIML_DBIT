{
 "cells": [
  {
   "cell_type": "code",
   "execution_count": 1,
   "id": "00065250-43b4-41f4-aa53-eede6aed5933",
   "metadata": {},
   "outputs": [
    {
     "name": "stdout",
     "output_type": "stream",
     "text": [
      "['blue', 'black']\n"
     ]
    }
   ],
   "source": [
    "li = ['orange', 'blue', 'black', 'pink']\n",
    "\n",
    "li.pop()\n",
    "li.remove('orange')\n",
    "print(li)"
   ]
  },
  {
   "cell_type": "code",
   "execution_count": 2,
   "id": "0c17b4f4-4b93-4d84-a13e-5a8ea3c124ae",
   "metadata": {},
   "outputs": [
    {
     "name": "stdin",
     "output_type": "stream",
     "text": [
      "Enter the 0th element:  1\n",
      "Enter the 1th element:  3\n",
      "Enter the 2th element:  2\n",
      "Enter the 3th element:  5\n",
      "Enter the 4th element:  4\n",
      "Enter the 5th element:  5\n",
      "Enter the 6th element:  8\n",
      "Enter the 7th element:  4\n",
      "Enter the 8th element:  7\n",
      "Enter the 9th element:  9\n"
     ]
    },
    {
     "data": {
      "text/plain": [
       "[4, 8, 4]"
      ]
     },
     "execution_count": 2,
     "metadata": {},
     "output_type": "execute_result"
    }
   ],
   "source": [
    "li =[]\n",
    "for i in range(10):\n",
    "    ele = int(input(f\"Enter the {str(i)}th element: \"))\n",
    "    li += [ele]\n",
    "n = len(li)\n",
    "\n",
    "li.pop(2)\n",
    "\n",
    "li = [x for x in li if x % 2 == 0]\n",
    "li"
   ]
  },
  {
   "cell_type": "code",
   "execution_count": 3,
   "id": "43224151-2d21-4b1f-a24b-218ee97df11c",
   "metadata": {},
   "outputs": [
    {
     "name": "stdout",
     "output_type": "stream",
     "text": [
      "[1, 2, 3, 4, 5, 6, 7, 8, 9, 10]\n"
     ]
    },
    {
     "data": {
      "text/plain": [
       "[10, 9, 8, 7, 6, 5, 4, 3, 2, 1]"
      ]
     },
     "execution_count": 3,
     "metadata": {},
     "output_type": "execute_result"
    }
   ],
   "source": [
    "li = [10, 9, 8, 7, 6, 5, 4, 3, 2, 1]\n",
    "\n",
    "li.sort()\n",
    "print(li)\n",
    "\n",
    "li.reverse()\n",
    "li"
   ]
  },
  {
   "cell_type": "code",
   "execution_count": 4,
   "id": "aedf8932-b8ad-4928-a750-da3985747897",
   "metadata": {},
   "outputs": [
    {
     "data": {
      "text/plain": [
       "[10, 9, 8, 7, 6, 5, 4, 3, 2, 1]"
      ]
     },
     "execution_count": 4,
     "metadata": {},
     "output_type": "execute_result"
    }
   ],
   "source": [
    "li = [10, 9, 8, 7, 6, 5, 4, 3, 2, 1]\n",
    "\n",
    "li.sort()\n",
    "print(li\n",
    "\n",
    "li.reverse()\n",
    "li"
   ]
  },
  {
   "cell_type": "code",
   "execution_count": null,
   "id": "ba7c5e58-9344-4cd5-97d2-e4302780c00d",
   "metadata": {},
   "outputs": [],
   "source": []
  }
 ],
 "metadata": {
  "kernelspec": {
   "display_name": "Python 3 (ipykernel)",
   "language": "python",
   "name": "python3"
  },
  "language_info": {
   "codemirror_mode": {
    "name": "ipython",
    "version": 3
   },
   "file_extension": ".py",
   "mimetype": "text/x-python",
   "name": "python",
   "nbconvert_exporter": "python",
   "pygments_lexer": "ipython3",
   "version": "3.13.5"
  }
 },
 "nbformat": 4,
 "nbformat_minor": 5
}
