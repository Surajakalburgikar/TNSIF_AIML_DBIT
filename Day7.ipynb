{
 "cells": [
  {
   "cell_type": "markdown",
   "id": "2835f7c5-304e-406f-a333-2ec498a51e38",
   "metadata": {},
   "source": [
    "## What is Machine Learning?  \n",
    "Machine Learning (ML) is a method where computers learn from data and make decisions or predictions without being explicitly programmed.\n",
    "\n",
    "\n",
    "## Core Types of ML:\n",
    "\n",
    "### Supervised Learning  \n",
    "– Labeled data  \n",
    "– Example: Predict house prices  \n",
    "– Algorithms: Linear Regression, Decision Trees, SVM\n",
    "\n",
    "### Unsupervised Learning  \n",
    "– No labels, find patterns  \n",
    "– Example: Customer Segmentation  \n",
    "– Algorithms: K-Means, PCA, Hierarchical Clustering\n",
    "\n",
    "### Reinforcement Learning  \n",
    "– Learn through trial and error  \n",
    "– Example: Game-playing bots  \n",
    "– Uses rewards/punishments\n",
    "\n",
    "### Common ML Algorithms:  \n",
    "– Linear Regression  \n",
    "– Logistic Regression  \n",
    "– K-Nearest Neighbors (KNN)  \n",
    "– Decision Trees & Random Forest  \n",
    "– Naive Bayes  \n",
    "– Support Vector Machines (SVM)  \n",
    "– Neural Networks\n",
    "\n",
    "## ML Workflow Steps:  \n",
    "1. Define the Problem  \n",
    "2. Collect Data  \n",
    "3. Clean & Preprocess Data  \n",
    "4. Choose Algorithm  \n",
    "5. Train Model  \n",
    "6. Evaluate with Test Data  \n",
    "7. Tune Parameters  \n",
    "8. Deploy Model\n"
   ]
  },
  {
   "cell_type": "code",
   "execution_count": null,
   "id": "6397f3aa",
   "metadata": {},
   "outputs": [],
   "source": []
  }
 ],
 "metadata": {
  "kernelspec": {
   "display_name": "Python 3 (ipykernel)",
   "language": "python",
   "name": "python3"
  },
  "language_info": {
   "codemirror_mode": {
    "name": "ipython",
    "version": 3
   },
   "file_extension": ".py",
   "mimetype": "text/x-python",
   "name": "python",
   "nbconvert_exporter": "python",
   "pygments_lexer": "ipython3",
   "version": "3.13.5"
  }
 },
 "nbformat": 4,
 "nbformat_minor": 5
}
