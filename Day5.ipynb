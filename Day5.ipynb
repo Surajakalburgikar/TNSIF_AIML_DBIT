{
 "cells": [
  {
   "cell_type": "code",
   "execution_count": 1,
   "id": "98172b96-9f32-4597-a71f-8961549e9edb",
   "metadata": {},
   "outputs": [
    {
     "data": {
      "text/plain": [
       "(1, 2, 3, 4)"
      ]
     },
     "execution_count": 1,
     "metadata": {},
     "output_type": "execute_result"
    }
   ],
   "source": [
    "tup = tuple([1, 2, 3,4])\n",
    "tup"
   ]
  },
  {
   "cell_type": "code",
   "execution_count": 2,
   "id": "0bd92f19-a760-4b57-8a8b-03f43179f473",
   "metadata": {},
   "outputs": [
    {
     "data": {
      "text/plain": [
       "(1, 2, 3, 4, 5, 7, 10)"
      ]
     },
     "execution_count": 2,
     "metadata": {},
     "output_type": "execute_result"
    }
   ],
   "source": [
    "tup = (1, 2, 3, 4, 5)\n",
    "tup = tup+(7, )\n",
    "tup += (10, )\n",
    "tup"
   ]
  },
  {
   "cell_type": "code",
   "execution_count": 3,
   "id": "bbe8fdb7-9e00-4f6f-ae86-8195f5090b61",
   "metadata": {},
   "outputs": [
    {
     "name": "stdin",
     "output_type": "stream",
     "text": [
      "Enter no of Employees:   5\n",
      "Enter the 0th Employee Salary:  5000\n",
      "Enter the 1th Employee Salary:  10000\n",
      "Enter the 2th Employee Salary:  1200\n",
      "Enter the 3th Employee Salary:  15000\n",
      "Enter the 4th Employee Salary:  3000\n"
     ]
    },
    {
     "name": "stdout",
     "output_type": "stream",
     "text": [
      "Maximum salary among all the employee is: 15000\n",
      "Minimum salary among all the employee is: 1200\n"
     ]
    }
   ],
   "source": [
    "#Write a python program to input ‘n’ employee salaries and find the minimum and maximum salary amongst ‘n’ employees.\n",
    "\n",
    "Salaries = []\n",
    "n = int(input(\"Enter no of Employees:  \"))\n",
    "\n",
    "for i in range(0, n):\n",
    "    salary = int(input(f\"Enter the {i}th Employee Salary: \"))\n",
    "    Salaries.append(salary)\n",
    "\n",
    "tup_sal = tuple(Salaries)\n",
    "print(f\"Maximum salary among all the employee is:\", max(tup_sal))\n",
    "print(f\"Minimum salary among all the employee is:\", min(tup_sal))"
   ]
  },
  {
   "cell_type": "code",
   "execution_count": 4,
   "id": "a27f5210-2bac-4a0a-b4fa-13fd09b566d9",
   "metadata": {},
   "outputs": [
    {
     "name": "stdout",
     "output_type": "stream",
     "text": [
      "2\n",
      "3\n",
      "1\n",
      "2\n",
      "3\n",
      "1\n",
      "2\n",
      "3\n",
      "1\n"
     ]
    }
   ],
   "source": [
    "a = (1, 2, 3)\n",
    "a = a*3\n",
    "a\n",
    "\n",
    "for i in a:\n",
    "    print(a[i])\n",
    "    "
   ]
  },
  {
   "cell_type": "code",
   "execution_count": 5,
   "id": "4d9604c7-edc0-4aa6-9ba6-532de09ad801",
   "metadata": {},
   "outputs": [
    {
     "name": "stdin",
     "output_type": "stream",
     "text": [
      "Enter the number of employees 3\n",
      "Enter the name:  rohit\n",
      "Enter the number:  1\n",
      "Enter the name:  sam\n",
      "Enter the number:  2\n",
      "Enter the name:  john\n",
      "Enter the number:  3\n"
     ]
    },
    {
     "name": "stdout",
     "output_type": "stream",
     "text": [
      "\n",
      "\n",
      "Name: rohit, Number: 1\n",
      "Name: sam, Number: 2\n",
      "Name: john, Number: 3\n"
     ]
    }
   ],
   "source": [
    "# Write a program to input ‘n’ employee numbers and names and store them in a dictionary. Display dictionaries employee’s names(key) and numbers(values) together.\n",
    "\n",
    "emp = {}\n",
    "\n",
    "n = int(input(\"Enter the number of employees\"))\n",
    "\n",
    "for i in range(n):\n",
    "    name = input(\"Enter the name: \")\n",
    "    number = input(\"Enter the number: \")\n",
    "    \n",
    "    emp[name] = number\n",
    "\n",
    "print(\"\\n\")\n",
    "for name, number in emp.items():\n",
    "\n",
    "    print(f\"Name: {name}, Number: {number}\")"
   ]
  },
  {
   "cell_type": "code",
   "execution_count": null,
   "id": "aa16c75a-3fe7-4a84-a192-a2c431e6702a",
   "metadata": {},
   "outputs": [],
   "source": []
  }
 ],
 "metadata": {
  "kernelspec": {
   "display_name": "Python 3 (ipykernel)",
   "language": "python",
   "name": "python3"
  },
  "language_info": {
   "codemirror_mode": {
    "name": "ipython",
    "version": 3
   },
   "file_extension": ".py",
   "mimetype": "text/x-python",
   "name": "python",
   "nbconvert_exporter": "python",
   "pygments_lexer": "ipython3",
   "version": "3.13.5"
  }
 },
 "nbformat": 4,
 "nbformat_minor": 5
}
